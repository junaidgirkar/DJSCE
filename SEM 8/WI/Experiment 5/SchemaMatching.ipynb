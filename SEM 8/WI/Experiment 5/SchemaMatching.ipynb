{
 "cells": [
  {
   "cell_type": "code",
   "execution_count": 1,
   "metadata": {},
   "outputs": [
    {
     "name": "stderr",
     "output_type": "stream",
     "text": [
      "c:\\Users\\JARVIS\\AppData\\Local\\Programs\\Python\\Python39\\lib\\site-packages\\tqdm\\auto.py:22: TqdmWarning: IProgress not found. Please update jupyter and ipywidgets. See https://ipywidgets.readthedocs.io/en/stable/user_install.html\n",
      "  from .autonotebook import tqdm as notebook_tqdm\n"
     ]
    },
    {
     "name": "stdout",
     "output_type": "stream",
     "text": [
      "schema_matching|Loading sentence transformer, this will take a while...\n",
      "schema_matching|Done loading sentence transformer\n"
     ]
    },
    {
     "name": "stderr",
     "output_type": "stream",
     "text": [
      "usage: ipykernel_launcher.py [-h] [-p PATH] [-m MODEL] [-t THRESHOLD]\n",
      "                             [-s STRATEGY]\n",
      "ipykernel_launcher.py: error: unrecognized arguments: --ip=127.0.0.1 --stdin=9008 --control=9006 --hb=9005 --Session.signature_scheme=\"hmac-sha256\" --Session.key=b\"49c893ad-9b53-448d-a803-c33aedbed0f6\" --shell=9007 --transport=\"tcp\" --iopub=9009 --f=c:\\Users\\JARVIS\\AppData\\Roaming\\jupyter\\runtime\\kernel-v2-10140w4v2TFEnisQb.json\n"
     ]
    },
    {
     "ename": "SystemExit",
     "evalue": "2",
     "output_type": "error",
     "traceback": [
      "An exception has occurred, use %tb to see the full traceback.\n",
      "\u001b[1;31mSystemExit\u001b[0m\u001b[1;31m:\u001b[0m 2\n"
     ]
    }
   ],
   "source": [
    "from schema_matching import schema_matching"
   ]
  },
  {
   "cell_type": "code",
   "execution_count": 2,
   "metadata": {},
   "outputs": [
    {
     "ename": "NameError",
     "evalue": "name 'schema_matching' is not defined",
     "output_type": "error",
     "traceback": [
      "\u001b[1;31m---------------------------------------------------------------------------\u001b[0m",
      "\u001b[1;31mNameError\u001b[0m                                 Traceback (most recent call last)",
      "Cell \u001b[1;32mIn[2], line 1\u001b[0m\n\u001b[1;32m----> 1\u001b[0m df_pred,df_pred_labels,predicted_pairs \u001b[39m=\u001b[39m schema_matching(\u001b[39m\"\u001b[39m\u001b[39mTable1.json\u001b[39m\u001b[39m\"\u001b[39m,\u001b[39m\"\u001b[39m\u001b[39mTable2.json\u001b[39m\u001b[39m\"\u001b[39m)\n\u001b[0;32m      2\u001b[0m \u001b[39mprint\u001b[39m(df_pred)\n\u001b[0;32m      3\u001b[0m \u001b[39mprint\u001b[39m(df_pred_labels)\n",
      "\u001b[1;31mNameError\u001b[0m: name 'schema_matching' is not defined"
     ]
    }
   ],
   "source": [
    "df_pred,df_pred_labels,predicted_pairs = schema_matching(\"Table1.json\",\"Table2.json\")\n",
    "print(df_pred)\n",
    "print(df_pred_labels)\n",
    "for pair_tuple in predicted_pairs:\n",
    "    print(pair_tuple)"
   ]
  }
 ],
 "metadata": {
  "kernelspec": {
   "display_name": "Python 3",
   "language": "python",
   "name": "python3"
  },
  "language_info": {
   "codemirror_mode": {
    "name": "ipython",
    "version": 3
   },
   "file_extension": ".py",
   "mimetype": "text/x-python",
   "name": "python",
   "nbconvert_exporter": "python",
   "pygments_lexer": "ipython3",
   "version": "3.9.0"
  },
  "orig_nbformat": 4,
  "vscode": {
   "interpreter": {
    "hash": "220a45487ad0fd3ba529a72972ea9a8bd57573a747c9718866668d46fe7606cb"
   }
  }
 },
 "nbformat": 4,
 "nbformat_minor": 2
}
