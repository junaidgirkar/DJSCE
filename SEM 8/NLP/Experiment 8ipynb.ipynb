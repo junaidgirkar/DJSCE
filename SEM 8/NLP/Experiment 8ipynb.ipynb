{
 "cells": [
  {
   "cell_type": "code",
   "execution_count": 1,
   "metadata": {},
   "outputs": [],
   "source": [
    "from collections import defaultdict\n",
    "import random"
   ]
  },
  {
   "cell_type": "code",
   "execution_count": 6,
   "metadata": {},
   "outputs": [],
   "source": [
    "class CFG(object):\n",
    "    def __init__(self):\n",
    "        self.rules = defaultdict(list)\n",
    "\n",
    "    def add_production_rule(self, lhs, rhs):\n",
    "        productions = rhs.split('|')\n",
    "        for rules in productions:\n",
    "            self.rules[lhs].append(tuple(rules.split()))\n",
    "\n",
    "    def generate_random(self, symbol):\n",
    "        sentence = ''\n",
    "\n",
    "        random_production = random.choice(self.rules[symbol])\n",
    "\n",
    "        for sym in random_production:\n",
    "            if sym in self.rules:\n",
    "                sentence += self.generate_random(sym)\n",
    "            else:\n",
    "                sentence += sym + ' '\n",
    "\n",
    "        return sentence"
   ]
  },
  {
   "cell_type": "code",
   "execution_count": 7,
   "metadata": {},
   "outputs": [
    {
     "name": "stdout",
     "output_type": "stream",
     "text": [
      "{'S': [('NP', 'VP')], 'NP': [('Det', 'N')], 'PP': [('P', 'NP')], 'VP': [('V', 'NP'), ('V', 'PP'), ('VP',)], 'Det': [('the',), ('a',)], 'N': [('man',), ('elephant',), ('dog',), ('cat',)], 'P': [('in',), ('with',), ('on',)], 'V': [('slept',), ('saw',), ('walked',), ('kicked',), ('followed',), ('shot',)]}\n"
     ]
    }
   ],
   "source": [
    "cfg = CFG()\n",
    "cfg.add_production_rule('S', 'NP VP')\n",
    "cfg.add_production_rule('NP', 'Det N')\n",
    "cfg.add_production_rule('PP', 'P NP')\n",
    "cfg.add_production_rule('VP', 'V NP | V PP | VP')\n",
    "cfg.add_production_rule('Det', 'the | a')\n",
    "cfg.add_production_rule('N', 'man | elephant | dog | cat')\n",
    "cfg.add_production_rule('P', 'in | with | on')\n",
    "cfg.add_production_rule('V', 'slept | saw | walked | kicked | followed | shot')\n",
    "print(dict(cfg.rules))"
   ]
  },
  {
   "cell_type": "code",
   "execution_count": 8,
   "metadata": {},
   "outputs": [
    {
     "data": {
      "text/plain": [
       "['the cat followed the cat ',\n",
       " 'the dog followed the elephant ',\n",
       " 'the man saw a dog ',\n",
       " 'the dog followed in the cat ',\n",
       " 'a cat slept with a elephant ',\n",
       " 'the man kicked in a dog ',\n",
       " 'a cat slept a elephant ',\n",
       " 'a elephant shot with the cat ',\n",
       " 'the elephant saw the cat ',\n",
       " 'the dog kicked on a elephant ']"
      ]
     },
     "execution_count": 8,
     "metadata": {},
     "output_type": "execute_result"
    }
   ],
   "source": [
    "random_sentences = []\n",
    "for i in range(10):\n",
    "    sentence = cfg.generate_random('S')\n",
    "    if sentence not in random_sentences:\n",
    "        random_sentences.append(sentence)\n",
    "random_sentences"
   ]
  },
  {
   "cell_type": "code",
   "execution_count": null,
   "metadata": {},
   "outputs": [],
   "source": []
  }
 ],
 "metadata": {
  "kernelspec": {
   "display_name": "Python 3",
   "language": "python",
   "name": "python3"
  },
  "language_info": {
   "codemirror_mode": {
    "name": "ipython",
    "version": 3
   },
   "file_extension": ".py",
   "mimetype": "text/x-python",
   "name": "python",
   "nbconvert_exporter": "python",
   "pygments_lexer": "ipython3",
   "version": "3.11.0"
  },
  "orig_nbformat": 4
 },
 "nbformat": 4,
 "nbformat_minor": 2
}
