{
 "cells": [
  {
   "cell_type": "code",
   "execution_count": 186,
   "metadata": {},
   "outputs": [],
   "source": [
    "import numpy as np"
   ]
  },
  {
   "cell_type": "code",
   "execution_count": 187,
   "metadata": {},
   "outputs": [],
   "source": [
    "# Constants\n",
    "\n",
    "P10 = np.array([3, 5, 2, 7, 4, 10, 1, 9, 8, 6]) - 1\n",
    "P8 = np.array([6, 3, 7, 4, 8, 5, 10, 9]) - 1\n",
    "P4 = np.array([2, 4, 3, 1]) - 1\n",
    "\n",
    "IP = np.array([2, 6, 3, 1, 4, 8, 5, 7]) - 1\n",
    "IP_inv = np.array([4, 1, 3, 5, 7, 2, 8, 6]) - 1\n",
    "EP = np.array([4, 1, 2, 3, 2, 3, 4, 1]) - 1\n",
    "\n",
    "S0 = np.array([[1,0,3,2],[3,2,1,0],[0,2,1,3],[3,1,3,2]])\n",
    "S1 = np.array([[0,1,2,3],[2,0,1,3],[3,0,1,0],[2,1,0,3]])"
   ]
  },
  {
   "cell_type": "code",
   "execution_count": 188,
   "metadata": {},
   "outputs": [],
   "source": [
    "def _process_input(input_text: str) -> np.ndarray:\n",
    "    binary_string: str = format(int(input_text, 16), \"0\"+str(4*len(input_text))+\"b\")\n",
    "    binary_array: np.ndarray = np.array(list(binary_string),'uint8') \n",
    "    return binary_array"
   ]
  },
  {
   "cell_type": "code",
   "execution_count": 189,
   "metadata": {},
   "outputs": [],
   "source": [
    "def _process_output(input_array: np.ndarray) -> str:\n",
    "    output_binary_text: str = ''.join(str(x) for x in input_array.tolist())\n",
    "    output_hex_text: str = format(int(output_binary_text, 2), \"0\"+str(len(output_binary_text)//4)+\"x\").upper()\n",
    "    return output_hex_text"
   ]
  },
  {
   "cell_type": "code",
   "execution_count": 190,
   "metadata": {},
   "outputs": [],
   "source": [
    "def _process_key(input_key: str) -> np.ndarray:\n",
    "    binary_array: np.ndarray = np.array(list(input_key),'uint8') \n",
    "    return binary_array"
   ]
  },
  {
   "cell_type": "code",
   "execution_count": 191,
   "metadata": {},
   "outputs": [],
   "source": [
    "def _generate_key(initial_key: np.ndarray, verbose: bool = False) -> tuple:\n",
    "    key = initial_key\n",
    "    key = key[P10]\n",
    "\n",
    "    left_key = np.roll(key[:5], -1)\n",
    "    right_key = np.roll(key[5:], -1)\n",
    " \n",
    "    key1 = np.concatenate((left_key, right_key))[P8]\n",
    "\n",
    "    left_key = np.roll(left_key, -2)\n",
    "    right_key = np.roll(right_key, -2)\n",
    "\n",
    "    key2 = np.concatenate((left_key, right_key))[P8]\n",
    "\n",
    "    if verbose:\n",
    "        print(\"Key 1: \", key1, \"\\nKey 2: \", key2)\n",
    "\n",
    "    return key1, key2\n"
   ]
  },
  {
   "cell_type": "code",
   "execution_count": 192,
   "metadata": {},
   "outputs": [],
   "source": [
    "def _substitute(input_text: np.ndarray) -> np.ndarray:\n",
    "    left_text_inside  : np.ndarray = input_text[:4]\n",
    "    right_text_inside  : np.ndarray = input_text[4:]\n",
    "\n",
    "    left_row  : np.ndarray = left_text_inside[[0,3]]\n",
    "    left_row = left_row.dot(1 << np.arange(left_row.shape[-1] - 1, -1, -1))\n",
    "\n",
    "    left_column  : np.ndarray = left_text_inside[[1,2]]\n",
    "    left_column = left_column.dot(1 << np.arange(left_column.shape[-1] - 1, -1, -1))\n",
    "\n",
    "    right_row : np.ndarray = right_text_inside[[0,3]]\n",
    "    right_row = right_row.dot(1 << np.arange(right_row.shape[-1] - 1, -1, -1))\n",
    "\n",
    "    right_column  : np.ndarray = right_text_inside[[1,2]]\n",
    "    right_column = right_column.dot(1 << np.arange(right_column.shape[-1] - 1, -1, -1))\n",
    "\n",
    "    left_text_inside = np.unpackbits(np.array([S0[left_row][left_column]],dtype=np.uint8))[-2:]\n",
    "    right_text_inside = np.unpackbits(np.array([S1[right_row][right_column]],dtype=np.uint8))[-2:]\n",
    "\n",
    "    inprocess_text = np.concatenate((left_text_inside, right_text_inside))\n",
    "\n",
    "    return inprocess_text"
   ]
  },
  {
   "cell_type": "code",
   "execution_count": 193,
   "metadata": {},
   "outputs": [],
   "source": [
    "def _stage_1(input_text: np.ndarray, key1: np.ndarray) -> np.ndarray:\n",
    "    inprocess_text : np.ndarray  = input_text\n",
    "    inprocess_text = inprocess_text[IP]\n",
    "    left_text  : np.ndarray = inprocess_text[:4]\n",
    "    right_text : np.ndarray  = inprocess_text[4:]\n",
    "\n",
    "    inprocess_text = right_text[EP]\n",
    "    inprocess_text = np.bitwise_xor(inprocess_text, key1)\n",
    "    inprocess_text = _substitute(inprocess_text)\n",
    "    inprocess_text = inprocess_text[P4]\n",
    "    inprocess_text = np.bitwise_xor(inprocess_text, left_text)\n",
    "    inprocess_text = np.concatenate((right_text, inprocess_text))\n",
    "\n",
    "    return inprocess_text\n"
   ]
  },
  {
   "cell_type": "code",
   "execution_count": 194,
   "metadata": {},
   "outputs": [],
   "source": [
    "def _stage_2(input_text: np.ndarray, key2: np.ndarray) -> np.ndarray:\n",
    "    inprocess_text : np.ndarray  = input_text\n",
    "    left_text  : np.ndarray = inprocess_text[:4]\n",
    "    right_text : np.ndarray  = inprocess_text[4:]\n",
    "\n",
    "    inprocess_text = right_text[EP]\n",
    "    inprocess_text = np.bitwise_xor(inprocess_text, key2)\n",
    "    inprocess_text = _substitute(inprocess_text)\n",
    "    inprocess_text = inprocess_text[P4]\n",
    "    inprocess_text = np.bitwise_xor(inprocess_text, left_text)\n",
    "    inprocess_text = np.concatenate((inprocess_text, right_text))\n",
    "    inprocess_text = inprocess_text[IP_inv]\n",
    "\n",
    "    return inprocess_text\n"
   ]
  },
  {
   "cell_type": "code",
   "execution_count": 195,
   "metadata": {},
   "outputs": [],
   "source": [
    "def _process(input_text: str, initial_key: str, method: str, verbose: bool = False) -> str:\n",
    "    initial_key_array = _process_key(input_key=initial_key)\n",
    "    input_text_array = _process_input(input_text=input_text)\n",
    "    \n",
    "    if method == 'encrypt':\n",
    "        key1, key2 = _generate_key(initial_key=initial_key_array, verbose=verbose)\n",
    "    elif method == 'decrypt':\n",
    "        key2, key1 = _generate_key(initial_key=initial_key_array, verbose=verbose)\n",
    "    else:\n",
    "        raise ValueError(\"Invalid Method\")\n",
    "\n",
    "    stage_1_cipher_text = _stage_1(input_text=input_text_array, key1=key1)\n",
    "    stage_2_cipher_text = _stage_2(input_text=stage_1_cipher_text, key2=key2)\n",
    "\n",
    "    output_text = _process_output(input_array=stage_2_cipher_text)\n",
    "\n",
    "    return output_text"
   ]
  },
  {
   "cell_type": "code",
   "execution_count": 200,
   "metadata": {},
   "outputs": [],
   "source": [
    "def encrypt(plain_text: str, initial_key: str, verbose: bool = False) -> str:\n",
    "    return _process(input_text=plain_text, initial_key=initial_key, method='encrypt', verbose=verbose)"
   ]
  },
  {
   "cell_type": "code",
   "execution_count": 201,
   "metadata": {},
   "outputs": [],
   "source": [
    "def decrypt(cipher_text: str, initial_key: str, verbose: bool = False) -> str:\n",
    "    return _process(input_text=cipher_text, initial_key=initial_key, method='decrypt', verbose=verbose)"
   ]
  },
  {
   "cell_type": "code",
   "execution_count": 203,
   "metadata": {},
   "outputs": [
    {
     "name": "stdout",
     "output_type": "stream",
     "text": [
      "\n",
      "Encrypting...\n",
      "\n",
      "Key 1:  [1 1 0 0 1 1 1 0] \n",
      "Key 2:  [1 1 0 1 1 0 0 1]\n",
      "\n",
      "Cipher Text:  28\n",
      "\n",
      "Decrypting...\n",
      "\n",
      "Key 1:  [1 1 0 0 1 1 1 0] \n",
      "Key 2:  [1 1 0 1 1 0 0 1]\n",
      "\n",
      "Deciphered Text:  FC\n"
     ]
    }
   ],
   "source": [
    "plain_text = input(\"Enter plain text: \")\n",
    "initial_key = input(\"Enter Initial Key: \")\n",
    "\n",
    "print(\"\\nEncrypting...\")\n",
    "cipher_text = encrypt(plain_text=plain_text, initial_key=initial_key, verbose=True)\n",
    "print(\"\\nCipher Text: \", cipher_text)\n",
    "\n",
    "print(\"\\nDecrypting...\")\n",
    "deciphered_text = decrypt(cipher_text=cipher_text, initial_key=initial_key, verbose=True)\n",
    "print(\"\\nDeciphered Text: \", deciphered_text)"
   ]
  }
 ],
 "metadata": {
  "interpreter": {
   "hash": "ac6f6d3dca4d275f79cd2dfc870e942539ba50b286858e945d199b6d1c8f4e32"
  },
  "kernelspec": {
   "display_name": "Python 3.9.6 ('ai')",
   "language": "python",
   "name": "python3"
  },
  "language_info": {
   "codemirror_mode": {
    "name": "ipython",
    "version": 3
   },
   "file_extension": ".py",
   "mimetype": "text/x-python",
   "name": "python",
   "nbconvert_exporter": "python",
   "pygments_lexer": "ipython3",
   "version": "3.9.6"
  },
  "orig_nbformat": 4
 },
 "nbformat": 4,
 "nbformat_minor": 2
}
