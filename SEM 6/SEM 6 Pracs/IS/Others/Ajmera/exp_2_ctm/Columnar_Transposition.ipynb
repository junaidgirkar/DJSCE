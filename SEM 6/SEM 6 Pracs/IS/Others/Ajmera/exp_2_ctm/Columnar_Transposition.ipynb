{
 "cells": [
  {
   "cell_type": "code",
   "execution_count": 1,
   "metadata": {},
   "outputs": [],
   "source": [
    "import cv2\n",
    "import numpy as np"
   ]
  },
  {
   "cell_type": "code",
   "execution_count": 4,
   "metadata": {},
   "outputs": [],
   "source": [
    "list1 = []\n",
    "newlist = sorted(list1, key=lambda d: d['letter']) "
   ]
  },
  {
   "cell_type": "code",
   "execution_count": 5,
   "metadata": {},
   "outputs": [
    {
     "data": {
      "text/plain": [
       "[]"
      ]
     },
     "execution_count": 5,
     "metadata": {},
     "output_type": "execute_result"
    }
   ],
   "source": [
    "newlist"
   ]
  },
  {
   "cell_type": "code",
   "execution_count": 6,
   "metadata": {},
   "outputs": [],
   "source": [
    "def create_key_list(key: str) -> list:\n",
    "    key_list = []\n",
    "    for letter in key:\n",
    "        key_list.append({'letter': letter, 'input': []})\n",
    "    return key_list"
   ]
  },
  {
   "cell_type": "code",
   "execution_count": 7,
   "metadata": {},
   "outputs": [
    {
     "data": {
      "text/plain": [
       "[{'letter': 'H', 'input': []},\n",
       " {'letter': 'e', 'input': []},\n",
       " {'letter': 'l', 'input': []},\n",
       " {'letter': 'l', 'input': []},\n",
       " {'letter': 'o', 'input': []}]"
      ]
     },
     "execution_count": 7,
     "metadata": {},
     "output_type": "execute_result"
    }
   ],
   "source": [
    "key_list = create_key_list('Hello')\n",
    "key_list"
   ]
  },
  {
   "cell_type": "code",
   "execution_count": 8,
   "metadata": {},
   "outputs": [],
   "source": [
    "def encrypt(img, key_list: list):\n",
    "    for i in range(len(key_list)):\n",
    "        for j in range(len(key_list)):\n",
    "            key_list[j]['input'].append()"
   ]
  },
  {
   "cell_type": "code",
   "execution_count": 9,
   "metadata": {},
   "outputs": [
    {
     "data": {
      "text/plain": [
       "array([[255, 255, 255, ..., 255, 255, 255],\n",
       "       [255, 254, 254, ..., 254, 254, 255],\n",
       "       [255, 254, 254, ..., 254, 254, 255],\n",
       "       ...,\n",
       "       [255, 255, 254, ..., 254, 255, 255],\n",
       "       [255, 254, 254, ..., 255, 255, 255],\n",
       "       [255, 255, 255, ..., 255, 255, 255]], dtype=uint8)"
      ]
     },
     "execution_count": 9,
     "metadata": {},
     "output_type": "execute_result"
    }
   ],
   "source": [
    "img = cv2.imread(\"image2.png\", cv2.IMREAD_COLOR)\n",
    "gray_image = cv2.cvtColor(img, cv2.COLOR_BGR2GRAY)\n",
    "gray_image"
   ]
  },
  {
   "cell_type": "code",
   "execution_count": 10,
   "metadata": {},
   "outputs": [],
   "source": [
    "key = 'helowrold'"
   ]
  },
  {
   "cell_type": "code",
   "execution_count": 11,
   "metadata": {},
   "outputs": [],
   "source": [
    "gray_image = gray_image.ravel()"
   ]
  },
  {
   "cell_type": "code",
   "execution_count": 12,
   "metadata": {},
   "outputs": [],
   "source": [
    "zeros_array = np.zeros(len(gray_image) % len(key), dtype=int)"
   ]
  },
  {
   "cell_type": "code",
   "execution_count": 13,
   "metadata": {},
   "outputs": [
    {
     "data": {
      "text/plain": [
       "array([], dtype=int32)"
      ]
     },
     "execution_count": 13,
     "metadata": {},
     "output_type": "execute_result"
    }
   ],
   "source": [
    "zeros_array"
   ]
  },
  {
   "cell_type": "code",
   "execution_count": 14,
   "metadata": {},
   "outputs": [],
   "source": [
    "extended_arr = np.append(gray_image, zeros_array)"
   ]
  },
  {
   "cell_type": "code",
   "execution_count": 15,
   "metadata": {},
   "outputs": [
    {
     "data": {
      "text/plain": [
       "array([255, 255, 255, ..., 255, 255, 255])"
      ]
     },
     "execution_count": 15,
     "metadata": {},
     "output_type": "execute_result"
    }
   ],
   "source": [
    "extended_arr"
   ]
  },
  {
   "cell_type": "code",
   "execution_count": 16,
   "metadata": {},
   "outputs": [
    {
     "data": {
      "text/plain": [
       "90000"
      ]
     },
     "execution_count": 16,
     "metadata": {},
     "output_type": "execute_result"
    }
   ],
   "source": [
    "len(extended_arr)"
   ]
  },
  {
   "cell_type": "code",
   "execution_count": 17,
   "metadata": {},
   "outputs": [],
   "source": [
    "extended_arr = extended_arr.reshape((int(len(extended_arr) / len(key)), len(key)))"
   ]
  },
  {
   "cell_type": "code",
   "execution_count": 18,
   "metadata": {},
   "outputs": [
    {
     "data": {
      "text/plain": [
       "(10000, 9)"
      ]
     },
     "execution_count": 18,
     "metadata": {},
     "output_type": "execute_result"
    }
   ],
   "source": [
    "extended_arr.shape"
   ]
  },
  {
   "cell_type": "code",
   "execution_count": 19,
   "metadata": {},
   "outputs": [],
   "source": [
    "key_list = create_key_list(key)"
   ]
  },
  {
   "cell_type": "code",
   "execution_count": 20,
   "metadata": {},
   "outputs": [
    {
     "name": "stdout",
     "output_type": "stream",
     "text": [
      "0\n",
      "1\n",
      "2\n",
      "3\n",
      "4\n",
      "5\n",
      "6\n",
      "7\n",
      "8\n"
     ]
    }
   ],
   "source": [
    "for i in range(extended_arr.shape[1]):\n",
    "    print((i))\n",
    "    key_list[i]['input'] = extended_arr[:,i]"
   ]
  },
  {
   "cell_type": "code",
   "execution_count": 21,
   "metadata": {},
   "outputs": [],
   "source": [
    "key_list = sorted(key_list, key=lambda d: d['letter']) "
   ]
  },
  {
   "cell_type": "code",
   "execution_count": 22,
   "metadata": {},
   "outputs": [],
   "source": [
    "test = key_list[0]['input'].reshape((len(key_list[0]['input']),))"
   ]
  },
  {
   "cell_type": "code",
   "execution_count": 23,
   "metadata": {},
   "outputs": [],
   "source": [
    "a = np.array([key_list[0]['input']])\n",
    "# a = np.append(a, test)"
   ]
  },
  {
   "cell_type": "code",
   "execution_count": 24,
   "metadata": {},
   "outputs": [
    {
     "data": {
      "text/plain": [
       "array([[255, 255, 238, ..., 255, 255, 255]])"
      ]
     },
     "execution_count": 24,
     "metadata": {},
     "output_type": "execute_result"
    }
   ],
   "source": [
    "a"
   ]
  },
  {
   "cell_type": "code",
   "execution_count": 25,
   "metadata": {},
   "outputs": [
    {
     "data": {
      "text/plain": [
       "array([255, 255, 238, ..., 255, 255, 255])"
      ]
     },
     "execution_count": 25,
     "metadata": {},
     "output_type": "execute_result"
    }
   ],
   "source": [
    "test"
   ]
  },
  {
   "cell_type": "code",
   "execution_count": 26,
   "metadata": {},
   "outputs": [],
   "source": [
    "a = np.vstack((a, key_list[0]['input']))"
   ]
  },
  {
   "cell_type": "code",
   "execution_count": 27,
   "metadata": {},
   "outputs": [
    {
     "data": {
      "text/plain": [
       "array([[255, 255, 238, ..., 255, 255, 255],\n",
       "       [255, 255, 238, ..., 255, 255, 255]])"
      ]
     },
     "execution_count": 27,
     "metadata": {},
     "output_type": "execute_result"
    }
   ],
   "source": [
    "a"
   ]
  },
  {
   "cell_type": "code",
   "execution_count": 45,
   "metadata": {},
   "outputs": [],
   "source": [
    "final = np.array([key_list[0]['input']])\n",
    "for i in range(1, len(key_list)):\n",
    "    final = np.vstack((final, key_list[i]['input']))\n"
   ]
  },
  {
   "cell_type": "code",
   "execution_count": 46,
   "metadata": {},
   "outputs": [
    {
     "data": {
      "text/plain": [
       "(9, 10000)"
      ]
     },
     "execution_count": 46,
     "metadata": {},
     "output_type": "execute_result"
    }
   ],
   "source": [
    "final.shape"
   ]
  },
  {
   "cell_type": "code",
   "execution_count": 47,
   "metadata": {},
   "outputs": [
    {
     "data": {
      "text/plain": [
       "(9, 10000)"
      ]
     },
     "execution_count": 47,
     "metadata": {},
     "output_type": "execute_result"
    }
   ],
   "source": [
    "final.shape"
   ]
  },
  {
   "cell_type": "code",
   "execution_count": 48,
   "metadata": {},
   "outputs": [],
   "source": [
    "final = final.reshape((300, 300))"
   ]
  },
  {
   "cell_type": "code",
   "execution_count": 49,
   "metadata": {},
   "outputs": [
    {
     "data": {
      "text/plain": [
       "True"
      ]
     },
     "execution_count": 49,
     "metadata": {},
     "output_type": "execute_result"
    }
   ],
   "source": [
    "cv2.imwrite('encrypted_ctm.jpg', final.T)"
   ]
  },
  {
   "cell_type": "code",
   "execution_count": 33,
   "metadata": {},
   "outputs": [
    {
     "data": {
      "text/plain": [
       "[{'letter': 'd', 'input': array([255, 255, 238, ..., 255, 255, 255])},\n",
       " {'letter': 'e', 'input': array([255, 255, 255, ..., 238, 255, 255])},\n",
       " {'letter': 'h', 'input': array([255, 255, 255, ..., 238, 255, 255])},\n",
       " {'letter': 'l', 'input': array([255, 255, 239, ..., 238, 255, 255])},\n",
       " {'letter': 'l', 'input': array([255, 255, 238, ..., 255, 255, 255])},\n",
       " {'letter': 'o', 'input': array([255, 255, 238, ..., 238, 255, 255])},\n",
       " {'letter': 'o', 'input': array([255, 255, 238, ..., 239, 255, 255])},\n",
       " {'letter': 'r', 'input': array([255, 255, 238, ..., 238, 255, 255])},\n",
       " {'letter': 'w', 'input': array([255, 255, 238, ..., 238, 255, 255])}]"
      ]
     },
     "execution_count": 33,
     "metadata": {},
     "output_type": "execute_result"
    }
   ],
   "source": [
    "key_list"
   ]
  },
  {
   "cell_type": "code",
   "execution_count": 43,
   "metadata": {},
   "outputs": [],
   "source": [
    "def encrypt(img_name: str, key1, key2):\n",
    "    # read the image provided\n",
    "    img = cv2.imread(img_name)\n",
    "    print(img)\n",
    "    # Convert image to grey-scale\n",
    "    # gray_image = cv2.cvtColor(img, cv2.COLOR_BGR2GRAY)\n",
    "    \n",
    "    # Convert to numpy array for mathematical calculations\n",
    "    img = np.asarray(img)\n",
    "    temp = (img * key1) % 256\n",
    "    cipher = (temp + key2) % 256\n",
    "    cv2.imwrite('encrypted.png',cipher)"
   ]
  },
  {
   "cell_type": "code",
   "execution_count": 44,
   "metadata": {},
   "outputs": [
    {
     "name": "stdout",
     "output_type": "stream",
     "text": [
      "[[[255 255 255]\n",
      "  [255 255 255]\n",
      "  [250 250 250]\n",
      "  ...\n",
      "  [237 237 237]\n",
      "  [253 253 253]\n",
      "  [253 253 253]]\n",
      "\n",
      " [[254 254 254]\n",
      "  [251 251 251]\n",
      "  [255 255 255]\n",
      "  ...\n",
      "  [235 235 235]\n",
      "  [255 255 255]\n",
      "  [255 255 255]]\n",
      "\n",
      " [[238 238 238]\n",
      "  [238 238 238]\n",
      "  [236 236 236]\n",
      "  ...\n",
      "  [255 255 255]\n",
      "  [234 234 234]\n",
      "  [237 237 237]]\n",
      "\n",
      " ...\n",
      "\n",
      " [[254 254 254]\n",
      "  [254 254 254]\n",
      "  [237 237 237]\n",
      "  ...\n",
      "  [249 249 249]\n",
      "  [255 255 255]\n",
      "  [255 255 255]]\n",
      "\n",
      " [[253 253 253]\n",
      "  [255 255 255]\n",
      "  [236 236 236]\n",
      "  ...\n",
      "  [252 252 252]\n",
      "  [255 255 255]\n",
      "  [255 255 255]]\n",
      "\n",
      " [[255 255 255]\n",
      "  [253 253 253]\n",
      "  [239 239 239]\n",
      "  ...\n",
      "  [254 254 254]\n",
      "  [254 254 254]\n",
      "  [254 254 254]]]\n"
     ]
    }
   ],
   "source": [
    "encrypt('encrypted_ctm.jpg', 10, 13)"
   ]
  },
  {
   "cell_type": "code",
   "execution_count": 51,
   "metadata": {},
   "outputs": [
    {
     "data": {
      "text/plain": [
       "True"
      ]
     },
     "execution_count": 51,
     "metadata": {},
     "output_type": "execute_result"
    }
   ],
   "source": [
    "img = cv2.imread(\"image2.png\", cv2.IMREAD_COLOR)\n",
    "gray_image = cv2.cvtColor(img, cv2.COLOR_BGR2GRAY)\n",
    "cv2.imwrite('decrypt.png', gray_image)\n"
   ]
  },
  {
   "cell_type": "code",
   "execution_count": null,
   "metadata": {},
   "outputs": [],
   "source": []
  }
 ],
 "metadata": {
  "interpreter": {
   "hash": "f699aeefd73c04bec6fb380ba21f3ebf40f1e0b183270376d3ae574ea2684021"
  },
  "kernelspec": {
   "display_name": "Python 3.8.5 ('IBM')",
   "language": "python",
   "name": "python3"
  },
  "language_info": {
   "codemirror_mode": {
    "name": "ipython",
    "version": 3
   },
   "file_extension": ".py",
   "mimetype": "text/x-python",
   "name": "python",
   "nbconvert_exporter": "python",
   "pygments_lexer": "ipython3",
   "version": "3.8.11"
  },
  "orig_nbformat": 4
 },
 "nbformat": 4,
 "nbformat_minor": 2
}
