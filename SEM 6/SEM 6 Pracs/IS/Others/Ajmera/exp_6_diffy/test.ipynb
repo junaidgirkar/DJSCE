{
 "cells": [
  {
   "cell_type": "code",
   "execution_count": 2,
   "metadata": {},
   "outputs": [],
   "source": [
    "import numpy as np"
   ]
  },
  {
   "cell_type": "code",
   "execution_count": 3,
   "metadata": {},
   "outputs": [],
   "source": [
    "public_key = [23, 9]\n",
    "p = public_key[0]\n",
    "g = public_key[1]"
   ]
  },
  {
   "cell_type": "code",
   "execution_count": 5,
   "metadata": {},
   "outputs": [],
   "source": [
    "px = 4\n",
    "py = 3"
   ]
  },
  {
   "cell_type": "code",
   "execution_count": 6,
   "metadata": {},
   "outputs": [
    {
     "data": {
      "text/plain": [
       "6"
      ]
     },
     "execution_count": 6,
     "metadata": {},
     "output_type": "execute_result"
    }
   ],
   "source": [
    "x = pow(g, px) % p\n",
    "x"
   ]
  },
  {
   "cell_type": "code",
   "execution_count": 7,
   "metadata": {},
   "outputs": [
    {
     "data": {
      "text/plain": [
       "16"
      ]
     },
     "execution_count": 7,
     "metadata": {},
     "output_type": "execute_result"
    }
   ],
   "source": [
    "y = pow(g, py) % p\n",
    "y"
   ]
  },
  {
   "cell_type": "code",
   "execution_count": 8,
   "metadata": {},
   "outputs": [
    {
     "data": {
      "text/plain": [
       "9"
      ]
     },
     "execution_count": 8,
     "metadata": {},
     "output_type": "execute_result"
    }
   ],
   "source": [
    "ka = pow(y, px) % p\n",
    "ka"
   ]
  },
  {
   "cell_type": "code",
   "execution_count": 9,
   "metadata": {},
   "outputs": [
    {
     "data": {
      "text/plain": [
       "9"
      ]
     },
     "execution_count": 9,
     "metadata": {},
     "output_type": "execute_result"
    }
   ],
   "source": [
    "kb = pow(x, py) % p\n",
    "kb"
   ]
  },
  {
   "cell_type": "code",
   "execution_count": 1,
   "metadata": {},
   "outputs": [],
   "source": [
    "import random\n",
    "\n",
    "# public keys are taken\n",
    "# p is a prime number\n",
    "# g is a primitive root of p\n",
    "p = int(input('Enter a prime number : '))\n",
    "g = int(input('Enter a number : '))\n",
    "\n",
    "\n",
    "class A:\n",
    "\tdef __init__(self):\n",
    "\t\t# Generating a random private number selected by alice\n",
    "\t\tself.n = random.randint(1, p)\t\n",
    "\n",
    "\tdef publish(self):\n",
    "\t\t# generating public values\n",
    "\t\treturn (g**self.n)%p\n",
    "\n",
    "\tdef compute_secret(self, gb):\n",
    "\t\t# computing secret key\n",
    "\t\treturn (gb**self.n)%p\n",
    "\n",
    "\n",
    "class B:\n",
    "\tdef __init__(self):\n",
    "\t\t# Generating a random private number selected for alice\n",
    "\t\tself.a = random.randint(1, p)\n",
    "\t\t# Generating a random private number selected for bob\n",
    "\t\tself.b = random.randint(1, p)\n",
    "\t\tself.arr = [self.a,self.b]\n",
    "\n",
    "\tdef publish(self, i):\n",
    "\t\t# generating public values\n",
    "\t\treturn (g**self.arr[i])%p\n",
    "\n",
    "\tdef compute_secret(self, ga, i):\n",
    "\t\t# computing secret key\n",
    "\t\treturn (ga**self.arr[i])%p\n",
    "\n",
    "\n",
    "alice = A()\n",
    "bob = A()\n",
    "eve = B()\n",
    "\n",
    "# Printing out the private selected number by Alice and Bob\n",
    "print(f'Alice selected (a) : {alice.n}')\n",
    "print(f'Bob selected (b) : {bob.n}')\n",
    "print(f'Eve selectd private number for Alice (c) : {eve.a}')\n",
    "print(f'Eve selectd private number for Bob (d) : {eve.b}')\n",
    "\n",
    "# Generating public values\n",
    "ga = alice.publish()\n",
    "gb = bob.publish()\n",
    "gea = eve.publish(0)\n",
    "geb = eve.publish(1)\n",
    "print(f'Alice published (ga): {ga}')\n",
    "print(f'Bob published (gb): {gb}')\n",
    "print(f'Eve published value for Alice (gc): {gea}')\n",
    "print(f'Eve published value for Bob (gd): {geb}')\n",
    "\n",
    "# Computing the secret key\n",
    "sa = alice.compute_secret(gea)\n",
    "sea = eve.compute_secret(ga,0)\n",
    "sb = bob.compute_secret(geb)\n",
    "seb = eve.compute_secret(gb,1)\n",
    "print(f'Alice computed (S1) : {sa}')\n",
    "print(f'Eve computed key for Alice (S1) : {sea}')\n",
    "print(f'Bob computed (S2) : {sb}')\n",
    "print(f'Eve computed key for Bob (S2) : {seb}')\n"
   ]
  },
  {
   "cell_type": "code",
   "execution_count": null,
   "metadata": {},
   "outputs": [],
   "source": []
  }
 ],
 "metadata": {
  "interpreter": {
   "hash": "702ac127c9ed2b77d31eaa2afa74238697971715b450b035582706e87d5f1492"
  },
  "kernelspec": {
   "display_name": "Python 3.9.8 64-bit",
   "language": "python",
   "name": "python3"
  },
  "language_info": {
   "codemirror_mode": {
    "name": "ipython",
    "version": 3
   },
   "file_extension": ".py",
   "mimetype": "text/x-python",
   "name": "python",
   "nbconvert_exporter": "python",
   "pygments_lexer": "ipython3",
   "version": "3.9.8"
  },
  "orig_nbformat": 4
 },
 "nbformat": 4,
 "nbformat_minor": 2
}
