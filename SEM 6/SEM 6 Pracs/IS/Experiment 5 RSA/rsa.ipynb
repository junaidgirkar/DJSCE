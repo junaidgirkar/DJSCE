{
 "cells": [
  {
   "cell_type": "code",
   "execution_count": 13,
   "metadata": {},
   "outputs": [],
   "source": [
    "from django.shortcuts import render\n",
    "from django.core.files.storage import FileSystemStorage\n",
    "from PIL import Image\n",
    "import numpy as np\n",
    "import requests\n",
    "from io import BytesIO\n",
    "from sympy import *\n",
    "from decimal import Decimal\n",
    "import os"
   ]
  },
  {
   "cell_type": "code",
   "execution_count": 14,
   "metadata": {},
   "outputs": [],
   "source": [
    "# Create your views here.\n",
    "\n",
    "#Set values for p and q (Two prime numbers)\n",
    "p = 7\n",
    "q = 37\n",
    "\n",
    "#from django.http import HttpResponse\n",
    "\n",
    "\n",
    "#GCD function\n",
    "def gcd(a,b):\n",
    "    if b==0:\n",
    "        return a\n",
    "    else:\n",
    "        return gcd(b,a%b)\n",
    "\n",
    "\n"
   ]
  },
  {
   "cell_type": "code",
   "execution_count": 15,
   "metadata": {},
   "outputs": [],
   "source": [
    "# RSA encrypt function\n",
    "def rsa_encrypt(no,p,q):\n",
    "    if isprime(p) and isprime(q):\n",
    "        n = p * q\n",
    "        t = (p-1)*(q-1)\n",
    "\n",
    "        for e in range(2,t):\n",
    "            if gcd(e,t)== 1:\n",
    "                break\n",
    "\n",
    "        for i in range(1,10):\n",
    "            x = 1 + i*t\n",
    "            if x % e == 0:\n",
    "                d = int(x/e)\n",
    "                break\n",
    "\n",
    "        ctt = Decimal(0)\n",
    "        ctt =pow(no,e)\n",
    "        ct = ctt % n\n",
    "\n",
    "        return int(ct)\n",
    "\n"
   ]
  },
  {
   "cell_type": "code",
   "execution_count": 16,
   "metadata": {},
   "outputs": [],
   "source": [
    "# RSA Decrypt Function\n",
    "def rsa_decrypt(ct,p,q):\n",
    "    if isprime(p) and isprime(q):\n",
    "        n = p * q\n",
    "        t = (p-1)*(q-1)\n",
    "\n",
    "        for e in range(2,t):\n",
    "            if gcd(e,t)== 1:\n",
    "                break\n",
    "\n",
    "        for i in range(1,10):\n",
    "            x = 1 + i*t\n",
    "            if x % e == 0:\n",
    "                d = int(x/e)\n",
    "                break\n",
    "\n",
    "        dtt = Decimal(0)\n",
    "        dtt = pow(ct,d)\n",
    "        dt = dtt % n\n",
    "\n",
    "        return int(dt)"
   ]
  },
  {
   "cell_type": "code",
   "execution_count": 20,
   "metadata": {},
   "outputs": [],
   "source": [
    "def encrypt():\n",
    "    # uploaded_file = request.FILES['input_image']\n",
    "    uploaded_file_name = 'RSA.jpg'\n",
    "    uploaded_file = 'RSA.jpg'\n",
    "\n",
    "    # uploaded_file_size = uploaded_file_name.size\n",
    "\n",
    "\n",
    "    img = Image.open(\"RSA.jpg\")\n",
    "    img_array=np.array(img)\n",
    "    width, height = img.size\n",
    "\n",
    "    img_array_duplicate = [[[img_array[i][j][k] for k in range(0,3)] for j in range(0,width)] for i in range(0,height)]\n",
    "    img_array_duplicate=np.array(img_array_duplicate)\n",
    "\n",
    "    for i in range (0,height):\n",
    "        for j in range (0,width):\n",
    "            for k in range (0,3):\n",
    "                img_array_duplicate[i][j][k] = rsa_encrypt(int(img_array_duplicate[i][j][k]),p,q)\n",
    "\n",
    "    encrypted_img = Image.fromarray(img_array_duplicate, 'RGB')\n",
    "    encrypted_img.save('encrypted.jpg')\n",
    "\n",
    "    np.save('encrypted', img_array_duplicate)\n",
    "\n",
    "\n",
    "    # fs.delete(uploaded_file_name)\n",
    "\n"
   ]
  },
  {
   "cell_type": "code",
   "execution_count": 18,
   "metadata": {},
   "outputs": [],
   "source": [
    "\n",
    "def decrypt():\n",
    "\n",
    "    img_array_duplicate = np.load('encrypted.jpg')\n",
    "\n",
    "    height = img_array_duplicate.shape[0]\n",
    "    width = img_array_duplicate.shape[1]\n",
    "\n",
    "    for i in range (0,height):\n",
    "        for j in range (0,width):\n",
    "            for k in range (0,3):\n",
    "                img_array_duplicate[i][j][k] = rsa_decrypt(int(img_array_duplicate[i][j][k]),p,q)\n",
    "\n",
    "    decrypted_img = Image.fromarray(img_array_duplicate, 'RGB')\n",
    "    decrypted_img.save('decrypted.jpg')"
   ]
  }
 ],
 "metadata": {
  "interpreter": {
   "hash": "702ac127c9ed2b77d31eaa2afa74238697971715b450b035582706e87d5f1492"
  },
  "kernelspec": {
   "display_name": "Python 3.9.8 64-bit",
   "language": "python",
   "name": "python3"
  },
  "language_info": {
   "codemirror_mode": {
    "name": "ipython",
    "version": 3
   },
   "file_extension": ".py",
   "mimetype": "text/x-python",
   "name": "python",
   "nbconvert_exporter": "python",
   "pygments_lexer": "ipython3",
   "version": "3.9.8"
  },
  "orig_nbformat": 4
 },
 "nbformat": 4,
 "nbformat_minor": 2
}
