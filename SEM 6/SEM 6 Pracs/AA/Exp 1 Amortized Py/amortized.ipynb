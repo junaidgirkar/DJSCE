{
 "cells": [
  {
   "cell_type": "code",
   "execution_count": 3,
   "metadata": {},
   "outputs": [],
   "source": [
    "import re"
   ]
  },
  {
   "cell_type": "code",
   "execution_count": 4,
   "metadata": {},
   "outputs": [],
   "source": [
    "set_data_structure = ''"
   ]
  },
  {
   "cell_type": "code",
   "execution_count": 5,
   "metadata": {},
   "outputs": [],
   "source": [
    "def line_by_line(input_file):\n",
    "    f = open(input_file, \"r\")\n",
    "    arr = f.read().split('\\n')\n",
    "\n",
    "    # Remove blanks\n",
    "    arr = list(filter(None, arr))\n",
    "\n",
    "    # trim each element\n",
    "    arr = [x.strip() for x in arr]\n",
    "\n",
    "    return arr\n"
   ]
  },
  {
   "cell_type": "code",
   "execution_count": 6,
   "metadata": {},
   "outputs": [
    {
     "data": {
      "text/plain": [
       "['tack  = []',\n",
       " 'def top():',\n",
       " 'global stack',\n",
       " 'if len(stack) > 1:',\n",
       " 'return stack[-1]',\n",
       " 'return -1',\n",
       " 'def pop():',\n",
       " 'global stack',\n",
       " 'popped = stack[-1]',\n",
       " 'stack = stack[:len(stack)-1]',\n",
       " 'return popped',\n",
       " 'def push(a: int):',\n",
       " 'global stack',\n",
       " 'stack.append(a)',\n",
       " 'def multi_pop(num: int):',\n",
       " 'global stack',\n",
       " 'for i in range(min(len(stack), num)):',\n",
       " 'pop()',\n",
       " \"if __name__ == '__main__':\",\n",
       " 'print(\"Hello World\")',\n",
       " 'push(1)',\n",
       " 'push(2)',\n",
       " 'pop()',\n",
       " 'push(24)',\n",
       " 'pop()',\n",
       " 'push(345)',\n",
       " 'push(2)',\n",
       " 'pop()',\n",
       " 'multi_pop(100)']"
      ]
     },
     "execution_count": 6,
     "metadata": {},
     "output_type": "execute_result"
    }
   ],
   "source": [
    "line_by_line(\"input.py\")"
   ]
  },
  {
   "cell_type": "code",
   "execution_count": 7,
   "metadata": {},
   "outputs": [],
   "source": [
    "# Pattern matching for stack\n",
    "stack_str = \"(def top\\(\\):|def pop\\(\\):|def push\\(a: int\\):)\""
   ]
  },
  {
   "cell_type": "code",
   "execution_count": 8,
   "metadata": {},
   "outputs": [
    {
     "name": "stdout",
     "output_type": "stream",
     "text": [
      "{'stack': {'name': 'stack', 'regex_str': '(def top\\\\(\\\\):|def pop\\\\(\\\\):|def push\\\\(a: int\\\\):)'}}\n"
     ]
    }
   ],
   "source": [
    "data_structure_dict = {\"stack\": {\"name\": 'stack', 'regex_str': stack_str}}\n",
    "print(data_structure_dict)"
   ]
  },
  {
   "cell_type": "code",
   "execution_count": 9,
   "metadata": {},
   "outputs": [
    {
     "name": "stdout",
     "output_type": "stream",
     "text": [
      "Data Structure Match\n"
     ]
    }
   ],
   "source": [
    "for ds in data_structure_dict:\n",
    "    a = data_structure_dict[ds]\n",
    "    re_str = a['regex_str']\n",
    "    \n",
    "    x = re.search(re_str, 'def pop():')\n",
    "    if x:\n",
    "        print('Data Structure Match')\n",
    "    else:\n",
    "        print('No Match')"
   ]
  },
  {
   "cell_type": "code",
   "execution_count": 10,
   "metadata": {},
   "outputs": [],
   "source": [
    "def identity_datastructure(input_str):\n",
    "    for ds in data_structure_dict:\n",
    "        a = data_structure_dict[ds]\n",
    "        re_str = a['regex_str']\n",
    "        \n",
    "        x = re.search(re_str, input_str)\n",
    "        if x:\n",
    "            return {'success': True, 'ds': a}\n",
    "        else:\n",
    "            pass\n",
    "    return {'success': False}\n"
   ]
  },
  {
   "cell_type": "code",
   "execution_count": 11,
   "metadata": {},
   "outputs": [
    {
     "name": "stdout",
     "output_type": "stream",
     "text": [
      "{'success': False}\n",
      "{'success': True, 'ds': {'name': 'stack', 'regex_str': '(def top\\\\(\\\\):|def pop\\\\(\\\\):|def push\\\\(a: int\\\\):)'}}\n",
      "{'name': 'stack', 'regex_str': '(def top\\\\(\\\\):|def pop\\\\(\\\\):|def push\\\\(a: int\\\\):)'}\n"
     ]
    }
   ],
   "source": [
    "for line in line_by_line('input.py'):\n",
    "    result = identity_datastructure(line)\n",
    "    print(result)\n",
    "    if result['success']:\n",
    "        print(result['ds'])\n",
    "        break\n"
   ]
  },
  {
   "cell_type": "code",
   "execution_count": 42,
   "metadata": {},
   "outputs": [],
   "source": [
    "def lines_after_main(arr):\n",
    "    for i in range(len(arr)):\n",
    "        if arr[i] == \"if __name__ == '__main__':\":\n",
    "            driver = arr[i+1:]\n",
    "    return driver"
   ]
  },
  {
   "cell_type": "code",
   "execution_count": 32,
   "metadata": {},
   "outputs": [
    {
     "name": "stdout",
     "output_type": "stream",
     "text": [
      "['tack  = []', 'def top():', 'global stack', 'if len(stack) > 1:', 'return stack[-1]', 'return -1', 'def pop():', 'global stack', 'popped = stack[-1]', 'stack = stack[:len(stack)-1]', 'return popped', 'def push(a: int):', 'global stack', 'stack.append(a)', 'def multi_pop(num: int):', 'global stack', 'for i in range(min(len(stack), num)):', 'pop()', \"if __name__ == '__main__':\", 'print(\"Hello World\")', 'push(1)', 'push(2)', 'pop()', 'push(24)', 'pop()', 'multi_pop(3)', 'push(345)', 'push(2)', 'pop()', 'push(2)', 'push(2)', 'push(2)', 'push(2)', 'multi_pop(100)']\n"
     ]
    }
   ],
   "source": [
    "driver_code = lines_after_main(line_by_line('input.py'))"
   ]
  },
  {
   "cell_type": "code",
   "execution_count": 33,
   "metadata": {},
   "outputs": [
    {
     "data": {
      "text/plain": [
       "['print(\"Hello World\")',\n",
       " 'push(1)',\n",
       " 'push(2)',\n",
       " 'pop()',\n",
       " 'push(24)',\n",
       " 'pop()',\n",
       " 'multi_pop(3)',\n",
       " 'push(345)',\n",
       " 'push(2)',\n",
       " 'pop()',\n",
       " 'push(2)',\n",
       " 'push(2)',\n",
       " 'push(2)',\n",
       " 'push(2)',\n",
       " 'multi_pop(100)']"
      ]
     },
     "execution_count": 33,
     "metadata": {},
     "output_type": "execute_result"
    }
   ],
   "source": [
    "driver_code"
   ]
  },
  {
   "cell_type": "code",
   "execution_count": 40,
   "metadata": {},
   "outputs": [],
   "source": [
    "count = 0\n",
    "num_vars = 0\n",
    "for line in driver_code:\n",
    "    if re.search('^push.*', line):\n",
    "        num_vars += 1\n",
    "    elif re.search('^pop.*', line):\n",
    "        num_vars -= 1\n",
    "    elif re.search('^multi.*', line):\n",
    "        num_arr = [s for s in line if s.isdigit()]\n",
    "        num_mp = int(''.join(num_arr))\n",
    "        pop_exec= min(num_mp, num_vars)\n",
    "        count += pop_exec\n",
    "        num_vars -= pop_exec\n",
    "    count += 1\n"
   ]
  },
  {
   "cell_type": "code",
   "execution_count": 25,
   "metadata": {},
   "outputs": [
    {
     "data": {
      "text/plain": [
       "0"
      ]
     },
     "execution_count": 25,
     "metadata": {},
     "output_type": "execute_result"
    }
   ],
   "source": [
    "num_vars"
   ]
  },
  {
   "cell_type": "code",
   "execution_count": 26,
   "metadata": {},
   "outputs": [
    {
     "data": {
      "text/plain": [
       "12"
      ]
     },
     "execution_count": 26,
     "metadata": {},
     "output_type": "execute_result"
    }
   ],
   "source": [
    "count"
   ]
  },
  {
   "cell_type": "markdown",
   "metadata": {},
   "source": [
    "## Aggregate Analysis"
   ]
  },
  {
   "cell_type": "code",
   "execution_count": 43,
   "metadata": {},
   "outputs": [],
   "source": [
    "driver_code = lines_after_main(line_by_line('input.py'))\n",
    "\n",
    "def aggregate_analysis(driver_code: list):\n",
    "    # variable to keep track of number of lines\n",
    "    count = 0\n",
    "    # varibale to keep track of the number of variables\n",
    "    num_vars = 0\n",
    "    # variable to keep track of number of excecutions\n",
    "    num_execs = 0\n",
    "\n",
    "    # parse every line\n",
    "    for line in driver_code:\n",
    "        if re.search('^push.*', line):\n",
    "            num_vars += 1\n",
    "            num_execs += 1\n",
    "        elif re.search('^pop.*', line):\n",
    "            num_vars -= 1\n",
    "            num_execs += 1\n",
    "        elif re.search('^multi.*', line):\n",
    "            num_arr = [s for s in line if s.isdigit()]\n",
    "            num_mp = int(''.join(num_arr))\n",
    "            pop_exec= min(num_mp, num_vars)\n",
    "            num_execs = num_execs + pop_exec\n",
    "            count += pop_exec\n",
    "            num_vars -= pop_exec\n",
    "        count += 1\n",
    "\n",
    "    print(f\"Total number of executions: {num_execs}\")\n",
    "    print(f\"Number of commands: {count}\")\n",
    "    print(f\"Total cost: {num_execs / count}\")"
   ]
  },
  {
   "cell_type": "code",
   "execution_count": 44,
   "metadata": {},
   "outputs": [
    {
     "name": "stdout",
     "output_type": "stream",
     "text": [
      "Total number of executions: 18\n",
      "Number of commands: 21\n",
      "Total cost: 0.8571428571428571\n"
     ]
    }
   ],
   "source": [
    "aggregate_analysis(driver_code)"
   ]
  },
  {
   "cell_type": "markdown",
   "metadata": {},
   "source": [
    "## Accounting Methods"
   ]
  },
  {
   "cell_type": "markdown",
   "metadata": {},
   "source": [
    "#### Ammortized Costs\n",
    "- Cost assigned to Push: 2\n",
    "- Cost assigned to Pop: 0\n",
    "- Cost assigned to Multipop: 0"
   ]
  },
  {
   "cell_type": "code",
   "execution_count": 52,
   "metadata": {},
   "outputs": [],
   "source": [
    "driver_code = lines_after_main(line_by_line('input.py'))\n",
    "\n",
    "def accounting(driver_code: list):\n",
    "    # variable to keep track of number of lines\n",
    "    count = 0\n",
    "    # varibale to keep track of the number of variables\n",
    "    num_vars = 0\n",
    "    # variable to keep track of number of excecutions\n",
    "    num_execs = 0\n",
    "    # variable to keep track of balance\n",
    "    bal = 0\n",
    "\n",
    "    # parse every line\n",
    "    for line in driver_code:\n",
    "        if re.search('^push.*', line):\n",
    "            num_vars += 1\n",
    "            # Ammortized cost of Pop: 2 and real cost: 1\n",
    "            bal = bal + 2 - 1\n",
    "        elif re.search('^pop.*', line):\n",
    "            num_vars -= 1\n",
    "            # Ammortized cost of Pop: 0 and real cost: 1\n",
    "            bal = bal -1\n",
    "        elif re.search('^multi.*', line):\n",
    "            num_arr = [s for s in line if s.isdigit()]\n",
    "            num_mp = int(''.join(num_arr))\n",
    "            pop_exec= min(num_mp, num_vars)\n",
    "            num_vars -= pop_exec\n",
    "            # Ammortized cost of multipop: 0 and real cost: pop_exec\n",
    "            bal = bal - pop_exec\n",
    "        count += 1\n",
    "        print(f\"Balance after {count} is {bal}\")"
   ]
  },
  {
   "cell_type": "code",
   "execution_count": 53,
   "metadata": {},
   "outputs": [
    {
     "name": "stdout",
     "output_type": "stream",
     "text": [
      "Balance after 1 is 0\n",
      "Balance after 2 is 1\n",
      "Balance after 3 is 2\n",
      "Balance after 4 is 1\n",
      "Balance after 5 is 2\n",
      "Balance after 6 is 1\n",
      "Balance after 7 is 0\n",
      "Balance after 8 is 1\n",
      "Balance after 9 is 2\n",
      "Balance after 10 is 1\n",
      "Balance after 11 is 2\n",
      "Balance after 12 is 3\n",
      "Balance after 13 is 4\n",
      "Balance after 14 is 5\n",
      "Balance after 15 is 0\n"
     ]
    }
   ],
   "source": [
    "accounting(driver_code)"
   ]
  },
  {
   "cell_type": "markdown",
   "metadata": {},
   "source": [
    "## Potential Method"
   ]
  },
  {
   "cell_type": "code",
   "execution_count": 59,
   "metadata": {},
   "outputs": [],
   "source": [
    "driver_code = lines_after_main(line_by_line('input.py'))\n",
    "\n",
    "def accounting(driver_code: list):\n",
    "    # variable to keep track of number of lines\n",
    "    count = 0\n",
    "    # varibale to keep track of the number of variables\n",
    "    num_vars = 0\n",
    "    # variable to keep track of number of excecutions\n",
    "    num_execs = 0\n",
    "    # variable to keep track of balance\n",
    "    ammortized_cost = 0\n",
    "    # Total cost\n",
    "    total = 0\n",
    "\n",
    "    # parse every line\n",
    "    for line in driver_code:\n",
    "        if re.search('^push.*', line):\n",
    "            # Ammortized cost of Pop: 2 and real cost: 1\n",
    "            ammortized_cost = ammortized_cost +  1 + (num_vars + 1 - num_vars)\n",
    "            num_vars += 1\n",
    "            total += 1\n",
    "        elif re.search('^pop.*', line):\n",
    "            # Ammortized cost of Pop: 0 and real cost: 1\n",
    "            ammortized_cost = ammortized_cost - 1 + (num_vars - 1 - num_vars)\n",
    "            num_vars -= 1\n",
    "            total += 1\n",
    "        elif re.search('^multi.*', line):\n",
    "            num_arr = [s for s in line if s.isdigit()]\n",
    "            num_mp = int(''.join(num_arr))\n",
    "            pop_exec= min(num_mp, num_vars)\n",
    "            # Ammortized cost of multipop: 0 and real cost: pop_exec\n",
    "            ammortized_cost = ammortized_cost + pop_exec - (pop_exec)\n",
    "            num_vars -= pop_exec\n",
    "            total += pop_exec\n",
    "        count += 1\n",
    "        print(f\"ammortized_costance after {count} is {ammortized_cost}\")\n",
    "    # print(f\"Total cost is {total}\")"
   ]
  },
  {
   "cell_type": "code",
   "execution_count": 60,
   "metadata": {},
   "outputs": [
    {
     "name": "stdout",
     "output_type": "stream",
     "text": [
      "ammortized_costance after 1 is 0\n",
      "ammortized_costance after 2 is 2\n",
      "ammortized_costance after 3 is 4\n",
      "ammortized_costance after 4 is 2\n",
      "ammortized_costance after 5 is 4\n",
      "ammortized_costance after 6 is 2\n",
      "ammortized_costance after 7 is 2\n",
      "ammortized_costance after 8 is 4\n",
      "ammortized_costance after 9 is 6\n",
      "ammortized_costance after 10 is 4\n",
      "ammortized_costance after 11 is 6\n",
      "ammortized_costance after 12 is 8\n",
      "ammortized_costance after 13 is 10\n",
      "ammortized_costance after 14 is 12\n",
      "ammortized_costance after 15 is 12\n"
     ]
    }
   ],
   "source": [
    "accounting(driver_code)"
   ]
  },
  {
   "cell_type": "code",
   "execution_count": null,
   "metadata": {},
   "outputs": [],
   "source": []
  }
 ],
 "metadata": {
  "interpreter": {
   "hash": "f699aeefd73c04bec6fb380ba21f3ebf40f1e0b183270376d3ae574ea2684021"
  },
  "kernelspec": {
   "display_name": "Python 3.8.5 ('IBM')",
   "language": "python",
   "name": "python3"
  },
  "language_info": {
   "codemirror_mode": {
    "name": "ipython",
    "version": 3
   },
   "file_extension": ".py",
   "mimetype": "text/x-python",
   "name": "python",
   "nbconvert_exporter": "python",
   "pygments_lexer": "ipython3",
   "version": "3.8.5"
  },
  "orig_nbformat": 4
 },
 "nbformat": 4,
 "nbformat_minor": 2
}